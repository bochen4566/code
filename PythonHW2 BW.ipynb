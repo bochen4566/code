{
  "metadata": {
    "anaconda-cloud": {},
    "kernelspec": {
      "name": "python",
      "display_name": "Pyolite",
      "language": "python"
    },
    "language_info": {
      "codemirror_mode": {
        "name": "python",
        "version": 3
      },
      "file_extension": ".py",
      "mimetype": "text/x-python",
      "name": "python",
      "nbconvert_exporter": "python",
      "pygments_lexer": "ipython3",
      "version": "3.8"
    }
  },
  "nbformat_minor": 4,
  "nbformat": 4,
  "cells": [
    {
      "cell_type": "markdown",
      "source": "# Python Homework 2",
      "metadata": {}
    },
    {
      "cell_type": "markdown",
      "source": "##### A stochastic model for a car insurance company's total cost of damages from traffic accidents goes back to the work by Van der Lann and Louter, \"A statistical model for the costs of passenger car traffic accidents\", Journal of the Royal Statistical Society (1986).\n\nFor every $k=1,2,3\\ldots$ we denote by the random variable $X_k$ the US dollar amount of a damage from a policy holder's traffic accident which will occur during the year 2022.\n\nWe assume that $X_1$, $X_2$,... is an i.i.d. (independent and identically distributed) sequence of exponentially distributed random variables with an average claim size of 1,500 USD. The (random) total number of accidents $N$ in 2022 is assumed to be Poisson distributed with $\\lambda$ claims on average.\n\nIt is assumed that the number of accidents is independent of the US dollar amount of damages for each accident. That is, the random variable $N$ is independent of the random variables $X_1$, $X_2$,...\n\nThe total costs for the insurance company by the end of 2022 will thus be given by the <b>random sum</b> \n\n$$S_N := X_1 + X_2 + \\dots + X_N = \\sum_{k = 1}^{N} X_k.$$\n\nNote that the total number $N$ of accidents is random!",
      "metadata": {}
    },
    {
      "cell_type": "markdown",
      "source": "The goal of the current exercise is to approximate via simulation:\n\n* the conditional expected total costs $$\\mathbb{E}[S_N|N=j]$$ for the insurance company in 2022 given that the number of claims is equal to $j$, and\n\n* the expected total costs $$\\mathbb{E}[S_N]$$ for the insurance company in 2022, and\n\n* the probabilities that the total cost will not exceed $K$ USD, i.e., \n\n$$\\mathbb{P}[S_N \\leq K] \\quad \\text{for} \\, K = \\$30,000,\\text{  and  } K=\\$45,000$$\n",
      "metadata": {}
    },
    {
      "cell_type": "markdown",
      "source": "As usual, we start with loading some packages:",
      "metadata": {}
    },
    {
      "cell_type": "code",
      "source": "import numpy as np\nimport math",
      "metadata": {
        "trusted": true
      },
      "execution_count": 1,
      "outputs": []
    },
    {
      "cell_type": "markdown",
      "source": "<b>Step 1:</b><br>\nFirst, write a function <tt>randomSum()</tt> which simulates from the distribution of $S_N$ given that $N=j$. The output should just be a single scalar!\n\n<i>Hint:</i> Use proper build-in functions from the <i>NumPy</i>-package in your code in order to sample from an Exponential distribution (check out the GettingStarted python file): ",
      "metadata": {}
    },
    {
      "cell_type": "code",
      "source": "def randomSum(averageClaimSize, j):\n    \n    ## Write your own code here\n    sample = np.random.exponential(averageClaimSize, j)\n    sampleSum = sum(sample)\n        \n    return sampleSum  ",
      "metadata": {
        "trusted": true
      },
      "execution_count": 4,
      "outputs": []
    },
    {
      "cell_type": "code",
      "source": "## Test your function\nrandomSum(1500,20)",
      "metadata": {
        "trusted": true
      },
      "execution_count": 5,
      "outputs": [
        {
          "execution_count": 5,
          "output_type": "execute_result",
          "data": {
            "text/plain": "26445.49837349749"
          },
          "metadata": {}
        }
      ]
    },
    {
      "cell_type": "markdown",
      "source": "<b>Step 2:</b><br>Write a function <tt>simulatorConditional()</tt> which uses the function <tt>randomSum()</tt> to simulate $M \\in \\mathbb{N}$ samples from the distribution of $S_N$ given that $N=j$. The output should be an array of length $M$.",
      "metadata": {}
    },
    {
      "cell_type": "code",
      "source": "def simulatorConditional(averageClaimSize, j, M):\n\n    ## Write your own code here\n    samples = []\n    for i in range(M):\n        samples.append(randomSum(averageClaimSize, j))\n    return samples",
      "metadata": {
        "trusted": true
      },
      "execution_count": 6,
      "outputs": []
    },
    {
      "cell_type": "code",
      "source": "## Test your function\nsimulatorConditional(1500,20,10)",
      "metadata": {
        "trusted": true
      },
      "execution_count": 7,
      "outputs": [
        {
          "execution_count": 7,
          "output_type": "execute_result",
          "data": {
            "text/plain": "[26849.678872260596,\n 25405.36023574337,\n 37469.520991231606,\n 32481.554369629248,\n 16330.470952860593,\n 29766.34405546656,\n 30315.633137642566,\n 19715.21532416547,\n 18305.207860692488,\n 31679.919607365126]"
          },
          "metadata": {}
        }
      ]
    },
    {
      "cell_type": "markdown",
      "source": "<b>Step 3:</b><br>Use your <tt>simulatorConditional()</tt> function to approximate the conditional expectation $$\\mathbb{E}[S_N|N=j]$$ for $j=10$ and $j=20$.\n\nFor this, you generate with your function <tt>simulatorConditional()</tt> a bunch of $M=1,000$ independent realizations (samples) $s^{(1)}_j, s^{(2)}_j, \\ldots, s^{(M)}_j$ with the distribution of $S_N$ given $N=j$. Then you can approximate:\n$$ \\$j \\cdot 1,500 = \\mathbb{E}[S_N|N=j] \\approx \\frac{1}{M} \\sum_{m=1}^M s^{(m)}_j,$$\nand check the accuracy of this approximation.",
      "metadata": {}
    },
    {
      "cell_type": "code",
      "source": "## Here comes your code \nj = 10\nM = 1000\nprint(j * 1500)\n(sum(simulatorConditional(1500, j, M))/M)",
      "metadata": {
        "trusted": true
      },
      "execution_count": 12,
      "outputs": [
        {
          "name": "stdout",
          "text": "15000\n",
          "output_type": "stream"
        },
        {
          "execution_count": 12,
          "output_type": "execute_result",
          "data": {
            "text/plain": "15060.76596319769"
          },
          "metadata": {}
        }
      ]
    },
    {
      "cell_type": "code",
      "source": "j = 20\nM = 1000\nprint(j * 1500)\n(sum(simulatorConditional(1500, j, M))/M)",
      "metadata": {
        "trusted": true
      },
      "execution_count": 13,
      "outputs": [
        {
          "name": "stdout",
          "text": "30000\n",
          "output_type": "stream"
        },
        {
          "execution_count": 13,
          "output_type": "execute_result",
          "data": {
            "text/plain": "30142.23059439827"
          },
          "metadata": {}
        }
      ]
    },
    {
      "cell_type": "markdown",
      "source": "<b>Step 4:</b><br>Write another simulator function which again uses the function <tt>randomSum()</tt> to simulate $M \\in \\mathbb{N}$ samples now from the unconditional distribution of $S_N$. You will need to write a function <tt>simulator()</tt> that passes Poisson distributed random numbers into the second argument of <tt>randomSum()</tt> now. The output of the function <tt>simulator()</tt> should be an array of length $M$.",
      "metadata": {}
    },
    {
      "cell_type": "code",
      "source": "def simulator(averageClaimSize, Poissonparameter, M):\n\n    ## Write your own code here\n    samples = []\n    for i in range(M):\n        samples.append(randomSum(averageClaimSize, np.random.poisson(Poissonparameter)))\n    return samples",
      "metadata": {
        "trusted": true
      },
      "execution_count": 26,
      "outputs": []
    },
    {
      "cell_type": "markdown",
      "source": "<b>Step 5:</b><br>We now assume that the average number of claims per year is $20$ and therefore choose $\\lambda=20$. As you are seeing in the homework, it holds via the so-called <b>Wald's Identity</b> that the expectation of the random sum $S_N$ is actually given by the formula\n\n\\begin{equation}\n\\mathbb{E}[S_N] = \\mathbb{E}[N] \\cdot \\mathbb{E}[X_1] = 20 \\cdot \\$1,500 = \\$30,000.\n\\end{equation}\n\nCheck via the empirical mean that\n\n$$ \\$30,000 = \\mathbb{E}[S_N] \\approx \\frac{1}{M} \\sum_{m=1}^M s^{(m)}_N$$\n\nwhere $s^{(1)}_N, s^{(2)}_N, \\ldots, s^{(M)}_N$ denote $M$ independent realizations (samples) from the random variable $S_N$. Use $M = 5000$ simulations.  ",
      "metadata": {}
    },
    {
      "cell_type": "code",
      "source": "## Here comes your code \n(sum(simulator(1500, 20, 5000))/5000)",
      "metadata": {
        "trusted": true
      },
      "execution_count": 30,
      "outputs": [
        {
          "execution_count": 30,
          "output_type": "execute_result",
          "data": {
            "text/plain": "29918.466248582565"
          },
          "metadata": {}
        }
      ]
    },
    {
      "cell_type": "markdown",
      "source": "<b>Step 6: </b><br>Recall from class that the desired probabilities $\\mathbb{P}[S_N \\leq K]$ for $K = \\$30,000,\\text{ and } \\$45,000$ can be computed as expectations via an indicator function\n\n$$ \\mathbb{P}[S_N \\leq K] = \\mathbb{E}[1_{\\{S_N \\leq K\\}}]$$\n\nWe use once more the empricial mean to approximate\n\n$$ \\mathbb{E}[1_{\\{S_N \\leq K\\}}] \\approx \\frac{1}{M} \\sum_{m=1}^M 1_{\\{s^{(m)}_N \\leq K \\}}$$\n\nwith $M$ independent realizations (samples) from the random variable $S_N$ (again denoted by $s^{(1)}_N, s^{(2)}_N, \\ldots, s^{(M)}_N$).",
      "metadata": {}
    },
    {
      "cell_type": "markdown",
      "source": "Write a function <tt>MCprobEstimation()</tt> which estimates the probabilities $\\mathbb{P}[S_N \\leq K]$ for $K = \\$30,000,\\text{  and  } K=\\$45,000$ as described based on $M$ simulations of $S_N$. The output should be a real number in [0,1]:",
      "metadata": {}
    },
    {
      "cell_type": "code",
      "source": "def MCprobEstimation(averageClaimSize, averageNumberOfClaims, K, M):\n\n    ## Write your own code here\n    empiricalProb = 0\n    r = simulator(averageClaimSize, averageNumberOfClaims, M)\n    for i in range(M):\n        if(r[i] <= K):\n            empiricalProb += 1\n    empiricalProb /= M\n    return empiricalProb",
      "metadata": {
        "trusted": true
      },
      "execution_count": 32,
      "outputs": []
    },
    {
      "cell_type": "code",
      "source": "## Test your function\nMCprobEstimation(1500, 20, 20000, 10)",
      "metadata": {
        "trusted": true
      },
      "execution_count": 37,
      "outputs": [
        {
          "execution_count": 37,
          "output_type": "execute_result",
          "data": {
            "text/plain": "0.4"
          },
          "metadata": {}
        }
      ]
    },
    {
      "cell_type": "markdown",
      "source": "Test your function with varying $M = 100, 1000, 10000$ simulations:",
      "metadata": {}
    },
    {
      "cell_type": "code",
      "source": "print(MCprobEstimation(1500, 20, 30000, 100))\nprint(MCprobEstimation(1500, 20, 30000, 1000))\nprint(MCprobEstimation(1500, 20, 30000, 10000))",
      "metadata": {
        "trusted": true
      },
      "execution_count": 38,
      "outputs": [
        {
          "name": "stdout",
          "text": "0.5\n0.539\n0.5414\n",
          "output_type": "stream"
        }
      ]
    },
    {
      "cell_type": "code",
      "source": "print(MCprobEstimation(1500, 20, 45000, 100))\nprint(MCprobEstimation(1500, 20, 45000, 1000))\nprint(MCprobEstimation(1500, 20, 45000, 10000))",
      "metadata": {
        "trusted": true
      },
      "execution_count": 39,
      "outputs": [
        {
          "name": "stdout",
          "text": "0.93\n0.941\n0.9341\n",
          "output_type": "stream"
        }
      ]
    },
    {
      "cell_type": "code",
      "source": "",
      "metadata": {},
      "execution_count": null,
      "outputs": []
    }
  ]
}